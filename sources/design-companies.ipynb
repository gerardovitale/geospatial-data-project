{
 "cells": [
  {
   "cell_type": "code",
   "execution_count": 112,
   "metadata": {},
   "outputs": [],
   "source": [
    "from pymongo import MongoClient\n",
    "import pandas as pd\n",
    "from folium import Map, Marker, Icon, FeatureGroup, LayerControl, Choropleth\n",
    "# import seaborn as sns\n",
    "# import matplotlib.pyplot as plt\n",
    "# import functions.count_categories\n",
    "# import functions.count_offices\n",
    "# import functions.us_state_code"
   ]
  },
  {
   "cell_type": "code",
   "execution_count": 113,
   "metadata": {},
   "outputs": [],
   "source": [
    "client = MongoClient()\n",
    "db = client.companies"
   ]
  },
  {
   "cell_type": "code",
   "execution_count": 114,
   "metadata": {},
   "outputs": [
    {
     "data": {
      "text/plain": [
       "['companies', 'companies_unwinded']"
      ]
     },
     "execution_count": 114,
     "metadata": {},
     "output_type": "execute_result"
    }
   ],
   "source": [
    "db.list_collection_names()"
   ]
  },
  {
   "cell_type": "code",
   "execution_count": 115,
   "metadata": {},
   "outputs": [],
   "source": [
    "design_co = db.companies_unwinded"
   ]
  },
  {
   "cell_type": "code",
   "execution_count": 116,
   "metadata": {},
   "outputs": [],
   "source": [
    "filt = {'category_code':'design'}\n",
    "project = {'name':1, 'offices':1}\n",
    "res = design_co.find(filt, project)"
   ]
  },
  {
   "cell_type": "code",
   "execution_count": 117,
   "metadata": {},
   "outputs": [],
   "source": [
    "design_offices = list(res)"
   ]
  },
  {
   "cell_type": "code",
   "execution_count": 118,
   "metadata": {},
   "outputs": [
    {
     "data": {
      "text/plain": [
       "[{'_id': ObjectId('5fafa7967e0abdb81d77bac7'),\n",
       "  'name': '99designs',\n",
       "  'offices': {'description': 'United States (HQ)',\n",
       "   'address1': '447 Battery St.',\n",
       "   'address2': '3rd Floor',\n",
       "   'zip_code': '94111',\n",
       "   'city': 'San Francisco',\n",
       "   'state_code': 'CA',\n",
       "   'country_code': 'USA',\n",
       "   'latitude': 37.7955307,\n",
       "   'longitude': -122.4005983}},\n",
       " {'_id': ObjectId('5fafa7967e0abdb81d77bac8'),\n",
       "  'name': '99designs',\n",
       "  'offices': {'description': 'Australia',\n",
       "   'address1': '204 Wellington St.',\n",
       "   'address2': '',\n",
       "   'zip_code': '3065',\n",
       "   'city': 'Collingwood',\n",
       "   'state_code': None,\n",
       "   'country_code': 'AUS',\n",
       "   'latitude': -37.8026587,\n",
       "   'longitude': 144.9868546}},\n",
       " {'_id': ObjectId('5fafa7967e0abdb81d77bac9'),\n",
       "  'name': '99designs',\n",
       "  'offices': {'description': 'Europe',\n",
       "   'address1': 'Schlesische Str. 29-30',\n",
       "   'address2': '',\n",
       "   'zip_code': '',\n",
       "   'city': 'Berlin',\n",
       "   'state_code': None,\n",
       "   'country_code': 'DEU',\n",
       "   'latitude': 52.4986199,\n",
       "   'longitude': 13.4469031}},\n",
       " {'_id': ObjectId('5fafa7987e0abdb81d77d8f4'),\n",
       "  'name': 'Graticle',\n",
       "  'offices': {'description': 'Office',\n",
       "   'address1': '100 E. Third Ave. #373',\n",
       "   'address2': '',\n",
       "   'zip_code': '98926',\n",
       "   'city': 'Ellensburg',\n",
       "   'state_code': 'WA',\n",
       "   'country_code': 'USA',\n",
       "   'latitude': 45.7968414,\n",
       "   'longitude': -122.6931439}}]"
      ]
     },
     "execution_count": 118,
     "metadata": {},
     "output_type": "execute_result"
    }
   ],
   "source": [
    "design_offices"
   ]
  },
  {
   "cell_type": "code",
   "execution_count": 124,
   "metadata": {},
   "outputs": [],
   "source": [
    "m = Map(zoom_start=40)"
   ]
  },
  {
   "cell_type": "code",
   "execution_count": 125,
   "metadata": {},
   "outputs": [],
   "source": [
    "for office in design_offices:\n",
    "    Marker(location=[ office['offices']['latitude'], office['offices']['longitude'] ],\n",
    "           tooltip=office['name'], popup=office['offices']['city']\n",
    "          ).add_to(m)"
   ]
  },
  {
   "cell_type": "code",
   "execution_count": 126,
   "metadata": {},
   "outputs": [
    {
     "data": {
      "text/plain": [
       "[]"
      ]
     },
     "execution_count": 126,
     "metadata": {},
     "output_type": "execute_result"
    }
   ],
   "source": [
    "lat_lon_list "
   ]
  },
  {
   "cell_type": "code",
   "execution_count": 127,
   "metadata": {},
   "outputs": [
    {
     "data": {
      "text/html": [
       "<div style=\"width:100%;\"><div style=\"position:relative;width:100%;height:0;padding-bottom:60%;\"><span style=\"color:#565656\">Make this Notebook Trusted to load map: File -> Trust Notebook</span><iframe src=\"about:blank\" style=\"position:absolute;width:100%;height:100%;left:0;top:0;border:none !important;\" data-html=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 onload=\"this.contentDocument.open();this.contentDocument.write(atob(this.getAttribute('data-html')));this.contentDocument.close();\" allowfullscreen webkitallowfullscreen mozallowfullscreen></iframe></div></div>"
      ],
      "text/plain": [
       "<folium.folium.Map at 0x7fc690435880>"
      ]
     },
     "execution_count": 127,
     "metadata": {},
     "output_type": "execute_result"
    }
   ],
   "source": [
    "m"
   ]
  },
  {
   "cell_type": "code",
   "execution_count": 128,
   "metadata": {},
   "outputs": [],
   "source": [
    "m.save('design-offices.html')"
   ]
  },
  {
   "cell_type": "code",
   "execution_count": null,
   "metadata": {},
   "outputs": [],
   "source": []
  }
 ],
 "metadata": {
  "kernelspec": {
   "display_name": "Python 3",
   "language": "python",
   "name": "python3"
  },
  "language_info": {
   "codemirror_mode": {
    "name": "ipython",
    "version": 3
   },
   "file_extension": ".py",
   "mimetype": "text/x-python",
   "name": "python",
   "nbconvert_exporter": "python",
   "pygments_lexer": "ipython3",
   "version": "3.8.3"
  }
 },
 "nbformat": 4,
 "nbformat_minor": 4
}
